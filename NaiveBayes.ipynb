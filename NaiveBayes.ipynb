{
 "cells": [
  {
   "cell_type": "markdown",
   "metadata": {},
   "source": [
    "# Naive Beyes"
   ]
  },
  {
   "cell_type": "markdown",
   "metadata": {},
   "source": [
    "http://yaju3d.hatenablog.jp/entry/2016/10/31/222307"
   ]
  },
  {
   "cell_type": "code",
   "execution_count": 27,
   "metadata": {},
   "outputs": [],
   "source": [
    "import math\n",
    "import sys\n",
    "\n",
    "from janome.tokenizer import Tokenizer"
   ]
  },
  {
   "cell_type": "code",
   "execution_count": null,
   "metadata": {},
   "outputs": [],
   "source": [
    "word_class = [\"形容詞\", \"形容動詞\", \"感動詞\", \"副詞\", \"連体詞\", \"動詞\"]"
   ]
  },
  {
   "cell_type": "code",
   "execution_count": 16,
   "metadata": {},
   "outputs": [],
   "source": [
    "def split(doc, word_class=word_class):\n",
    "    t = Tokenizer()\n",
    "    \n",
    "    tokens = t.tokenize(doc)\n",
    "    word_list = []\n",
    "    for token in tokens:\n",
    "        word_list.append(token.surface)\n",
    "    return [word for word in word_list]\n",
    "\n",
    "\n",
    "def getwords(doc):\n",
    "    words = [s.lower() for s in split(doc)]\n",
    "    return tuple(w for w in words)"
   ]
  },
  {
   "cell_type": "code",
   "execution_count": 88,
   "metadata": {},
   "outputs": [],
   "source": [
    "class NaiveBayes:\n",
    "    \"\"\"Naive Bayes Classifier\n",
    "    \n",
    "    \"\"\"\n",
    "    \n",
    "    # constructor\n",
    "    def __init__(self):\n",
    "        self.vocabularies = set() # 単語の集合\n",
    "        self.wordcount = {} # {Categories : {words: n, ...}}\n",
    "        self.catcount = {} # {category : n}\n",
    "        \n",
    "    # 訓練フェーズ : 単語のカウントアップ\n",
    "    def wordcountup(self, word, cat):\n",
    "        self.wordcount.setdefault(cat, {})\n",
    "        self.wordcount[cat].setdefault(word, 0)\n",
    "        self.wordcount[cat][word] += 1\n",
    "        self.vocabularies.add(word) # 重複を除く\n",
    "        \n",
    "    # 訓練フェーズ : カテゴリのカウントアップ\n",
    "    def catcountup(self, cat):\n",
    "        self.catcount.setdefault(cat, 0)\n",
    "        self.catcount[cat] += 1\n",
    "        \n",
    "    # 訓練フェーズ\n",
    "    def train(self, doc, cat):\n",
    "        word = getwords(doc)\n",
    "        for w in word:\n",
    "            self.wordcountup(w, cat)\n",
    "        self.catcountup(cat)\n",
    "        \n",
    "        \n",
    "    # 推定フェーズ\n",
    "    def classifier(self, doc):\n",
    "        best = None # 最適なカテゴリ\n",
    "        max = -sys.maxsize\n",
    "        word = getwords(doc)\n",
    "    \n",
    "        # カテゴリ毎に確率の対数を求める\n",
    "        for cat in self.catcount.keys():\n",
    "            prob = self.score(word, cat)\n",
    "            if prob > max:\n",
    "                max = prob\n",
    "                best = cat\n",
    "        return best\n",
    "    \n",
    "    # 推定フェーズ:catの生成確率 P（cat）\n",
    "    def score(self, word, cat):\n",
    "        score = math.log(self.priorprob(cat))\n",
    "        for w in word:\n",
    "            score += math.log(self.wordprob(w, cat))\n",
    "            \n",
    "#         print('cat:{}, score: {}'.format(cat, score))\n",
    "        return score\n",
    "    \n",
    "    # 推定フェーズ:catの生起確率\n",
    "    def priorprob(self, cat):\n",
    "        return float(self.catcount[cat]) / sum(self.catcount.values())\n",
    "    \n",
    "    # 推定フェーズ:あるカテゴリの中に単語が登場した回数\n",
    "    def incategory(self, word, cat):\n",
    "        if word in self.wordcount[cat]:\n",
    "            return float(self.wordcount[cat][word])\n",
    "        return 0.0\n",
    "\n",
    "    # 推定フェーズ:条件付き確率 P(word | cat)(補正につき)\n",
    "    def wordprob(self, word, cat):\n",
    "        prob = \\\n",
    "            (self.incategory(word, cat) + 1.0) / \\\n",
    "                (sum(self.wordcount[cat].values()) + \\\n",
    "                len(self.vocabularies) * 1.0 )\n",
    "        return prob"
   ]
  },
  {
   "cell_type": "code",
   "execution_count": 89,
   "metadata": {},
   "outputs": [],
   "source": [
    "def train():\n",
    "    nb = NaiveBayes()\n",
    "    nb.train(u'''Python（パイソン）は、オランダ人のグイド・ヴァンロッサムが作ったオープンソースのプログラミング言語。\n",
    "オブジェクト指向スクリプト言語の一種であり、Perlとともに欧米で広く普及している。イギリスのテレビ局 BBC が製作したコメディ番組『空飛ぶモンティパイソン』にちなんで名付けられた。\n",
    "Pythonは英語で爬虫類のニシキヘビの意味で、Python言語のマスコットやアイコンとして使われることがある。Pythonは汎用の高水準言語である。プログラマの生産性とコードの信頼性を重視して設計されており、核となるシンタックスおよびセマンティクスは必要最小限に抑えられている反面、利便性の高い大規模な標準ライブラリを備えている。\n",
    "Unicodeによる文字列操作をサポートしており、日本語処理も標準で可能である。 多くのプラットフォームをサポートしており（動作するプラットフォーム）、また、豊富なドキュメント、豊富なライブラリがあることから、産業界でも利用が増えつつある。''', 'Python')\n",
    "\n",
    "    nb.train(u'''Ruby（ルビー）は、まつもとゆきひろ（通称Matz）により開発されたオブジェクト指向スクリプト言語であり、従来Perlなどのスクリプト言語が用いられてきた領域でのオブジェクト指向プログラミングを実現する。Rubyは当初1993年2月24日に生まれ、1995年12月にfj上で発表された。名称のRubyは、プログラミング言語Perlが6月の誕生石であるPearl（真珠）と同じ発音をすることから、まつもとの同僚の誕生石（7月）のルビーを取って名付けられた。''', 'Ruby')\n",
    "\n",
    "    nb.train(u'''豊富な機械学習（きかいがくしゅう、Machine learning）とは、人工知能における研究課題の一つで、人間が自然に行っている学習能力と同様の機能をコンピュータで実現させるための技術・手法のことである。 ある程度の数のサンプルデータ集合を対象に解析を行い、そのデータから有用な規則、ルール、知識表現、判断基準などを抽出する。 データ集合を解析するため、統計学との関連も非常に深い。\n",
    "機械学習は検索エンジン、医療診断、スパムメールの検出、金融市場の予測、DNA配列の分類、音声認識や文字認識などのパターン認識、ゲーム戦略、ロボット、など幅広い分野で用いられている。応用分野の特性に応じて学習手法も適切に選択する必要があり、様々な手法が提案されている。それらの手法は、Machine Learning や IEEE Transactions on Pattern Analysis and Machine Intelligence などの学術雑誌などで発表されることが多い。''', u'機械学習')\n",
    "    return nb"
   ]
  },
  {
   "cell_type": "code",
   "execution_count": 90,
   "metadata": {},
   "outputs": [],
   "source": [
    "nb = train()"
   ]
  },
  {
   "cell_type": "code",
   "execution_count": 91,
   "metadata": {},
   "outputs": [],
   "source": [
    "def print_result(nb, words):\n",
    "    print('{} => 推定カテゴリ: {}'.format(words, nb.classifier(words)))"
   ]
  },
  {
   "cell_type": "code",
   "execution_count": 92,
   "metadata": {},
   "outputs": [
    {
     "name": "stdout",
     "output_type": "stream",
     "text": [
      "ヴァンロッサム氏によって開発されました. => 推定カテゴリ: Ruby\n",
      "豊富なドキュメントや豊富なライブラリがあります. => 推定カテゴリ: Python\n",
      "純粋なオブジェクト指向言語です. => 推定カテゴリ: Ruby\n",
      "Rubyはまつもとゆきひろ氏(通称Matz)により開発されました. => 推定カテゴリ: Ruby\n",
      "「機械学習 はじめよう」が始まりました. => 推定カテゴリ: 機械学習\n",
      "検索エンジンや画像認識に利用されています. => 推定カテゴリ: 機械学習\n"
     ]
    }
   ],
   "source": [
    "# Python\n",
    "words = u'ヴァンロッサム氏によって開発されました.'\n",
    "print_result(nb, words)\n",
    "\n",
    "# Python\n",
    "words = u'豊富なドキュメントや豊富なライブラリがあります.'\n",
    "print_result(nb, words)\n",
    "\n",
    "#Ruby\n",
    "words = u'純粋なオブジェクト指向言語です.'\n",
    "print_result(nb, words)\n",
    "\n",
    "# Ruby\n",
    "words = u'Rubyはまつもとゆきひろ氏(通称Matz)により開発されました.'\n",
    "print_result(nb, words)\n",
    "\n",
    "#機械学習\n",
    "words = u'「機械学習 はじめよう」が始まりました.'\n",
    "print_result(nb, words)\n",
    "\n",
    "words = u'検索エンジンや画像認識に利用されています.'\n",
    "print_result(nb, words)"
   ]
  },
  {
   "cell_type": "code",
   "execution_count": null,
   "metadata": {},
   "outputs": [],
   "source": []
  }
 ],
 "metadata": {
  "kernelspec": {
   "display_name": "Python 3",
   "language": "python",
   "name": "python3"
  },
  "language_info": {
   "codemirror_mode": {
    "name": "ipython",
    "version": 3
   },
   "file_extension": ".py",
   "mimetype": "text/x-python",
   "name": "python",
   "nbconvert_exporter": "python",
   "pygments_lexer": "ipython3",
   "version": "3.5.1"
  },
  "toc": {
   "base_numbering": 1,
   "nav_menu": {},
   "number_sections": true,
   "sideBar": true,
   "skip_h1_title": false,
   "title_cell": "Table of Contents",
   "title_sidebar": "Contents",
   "toc_cell": false,
   "toc_position": {},
   "toc_section_display": true,
   "toc_window_display": false
  }
 },
 "nbformat": 4,
 "nbformat_minor": 2
}
